{
 "cells": [
  {
   "cell_type": "code",
   "execution_count": 8,
   "id": "a918f55c",
   "metadata": {},
   "outputs": [],
   "source": [
    "class demo:\n",
    "    def __init__(self):\n",
    "        print(\"Demo class\")"
   ]
  },
  {
   "cell_type": "code",
   "execution_count": 7,
   "id": "618f987c",
   "metadata": {},
   "outputs": [
    {
     "name": "stdout",
     "output_type": "stream",
     "text": [
      "Demo class\n"
     ]
    }
   ],
   "source": [
    "d=demo()"
   ]
  },
  {
   "cell_type": "markdown",
   "id": "50703fcb",
   "metadata": {},
   "source": [
    "Class with variables and methods"
   ]
  },
  {
   "cell_type": "code",
   "execution_count": 9,
   "id": "8464ed93",
   "metadata": {},
   "outputs": [],
   "source": [
    "class demo:\n",
    "    def __init__(self,name):\n",
    "        self.My_name=name\n",
    "    "
   ]
  },
  {
   "cell_type": "code",
   "execution_count": 10,
   "id": "5afb0828",
   "metadata": {},
   "outputs": [],
   "source": [
    "d=demo(\"venky\")"
   ]
  },
  {
   "cell_type": "code",
   "execution_count": 12,
   "id": "395dc168",
   "metadata": {},
   "outputs": [
    {
     "name": "stdout",
     "output_type": "stream",
     "text": [
      "venky\n"
     ]
    }
   ],
   "source": [
    "print(d.My_name)"
   ]
  }
 ],
 "metadata": {
  "kernelspec": {
   "display_name": ".venv",
   "language": "python",
   "name": "python3"
  },
  "language_info": {
   "codemirror_mode": {
    "name": "ipython",
    "version": 3
   },
   "file_extension": ".py",
   "mimetype": "text/x-python",
   "name": "python",
   "nbconvert_exporter": "python",
   "pygments_lexer": "ipython3",
   "version": "3.9.6"
  }
 },
 "nbformat": 4,
 "nbformat_minor": 5
}
